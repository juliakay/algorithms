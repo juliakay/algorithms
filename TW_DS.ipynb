{
  "nbformat": 4,
  "nbformat_minor": 0,
  "metadata": {
    "colab": {
      "name": "TW DS",
      "provenance": [],
      "collapsed_sections": [],
      "authorship_tag": "ABX9TyNZkqaTWIlic2q0OUsWsmnE"
    },
    "kernelspec": {
      "name": "python3",
      "display_name": "Python 3"
    }
  },
  "cells": [
    {
      "cell_type": "code",
      "metadata": {
        "id": "jKT8z_zsC2p6"
      },
      "source": [
        "import pandas as pd\n",
        "import numpy as np\n",
        "import scipy.stats as stats\n",
        "\n",
        "from scipy.stats import ttest_ind"
      ],
      "execution_count": 20,
      "outputs": []
    },
    {
      "cell_type": "markdown",
      "metadata": {
        "id": "cGG-htqUTswz"
      },
      "source": [
        "# **Part 2: Experiment Analysis**\n",
        "\n",
        "\n",
        "Julia Kang (juliakangm@gmail.com)"
      ]
    },
    {
      "cell_type": "code",
      "metadata": {
        "id": "1Zkqgng7C6vR"
      },
      "source": [
        "# dataset provided was renamed df.csv\n",
        "df = pd.read_csv('df.csv')\n",
        "df['overspend_pct'] = (df['campaign_spend'] - df['campaign_budget']) * 100. / df['campaign_budget']"
      ],
      "execution_count": 2,
      "outputs": []
    },
    {
      "cell_type": "code",
      "metadata": {
        "id": "JgLADKnUxXQX"
      },
      "source": [
        "df_control = df[df['treatment']== False]\n",
        "df_treatment = df[df['treatment']== True]"
      ],
      "execution_count": 3,
      "outputs": []
    },
    {
      "cell_type": "markdown",
      "metadata": {
        "id": "ZcihH0ufD--W"
      },
      "source": [
        "## **QUESTIONS**\n",
        "\n",
        "There’s no specific structure or style that we expect from either output other than following your usual best practices. Please ensure that any figures or tables you include are clearly labelled and all relevant constituent components are legible. The audience for your report is product manager who is familiar with data science and experimentation practices and who wants to have an in-depth understanding of the results.\n",
        "1. How many campaigns have overspend of greater than 1% of their budget in the control group? In the treatment group?\n",
        "2. Was the new product effective at reducing overspend, and was it more or less effective depending on the company size? Put together an analysis describing how the treatment affected overspend.\n",
        "3. A product manager on the team is concerned that certain advertisers in the treatment group are entering lower budgets because they are wary of the new product. Provide some evidence to support their suspicions, or show that any differences in budgets are likely due to random fluctuations."
      ]
    },
    {
      "cell_type": "markdown",
      "metadata": {
        "id": "Y_Fs7iQ_T3YY"
      },
      "source": [
        "## **Question #1: Overspend**"
      ]
    },
    {
      "cell_type": "markdown",
      "metadata": {
        "id": "R2BfvhXKT-h_"
      },
      "source": [
        "**1. How many campaigns have overspend of greater than 1% of their budget in the control group? In the treatment group?**"
      ]
    },
    {
      "cell_type": "markdown",
      "metadata": {
        "id": "Zha3xRJxOoek"
      },
      "source": [
        "Campaigns with overspend greater than 1% of budget in the control group: 5716    \n",
        "Campaigns with overspend greater than 1% of budget in the treatment group: 5180"
      ]
    },
    {
      "cell_type": "code",
      "metadata": {
        "colab": {
          "base_uri": "https://localhost:8080/",
          "height": 0
        },
        "id": "SMEWOuNOufwv",
        "outputId": "029eada2-a0f6-4f96-ad48-82f5ef9c931a"
      },
      "source": [
        "# 1. How many campaigns have overspend of greater than 1% of their budget in the control group? In the treatment group?\n",
        "\n",
        "# Control Group overspend > 1% of budget: 5716\n",
        "# Treatment Group overspend > 1% of budget: 5180\n",
        "\n",
        "print('Control Group overspend > 1% of budget: ' + str(df_control[df_control['overspend_pct'] > 1.]['treatment'].count()))\n",
        "print('Treatment Group overspend > 1% of budget: ' + str(df_treatment[df_treatment['overspend_pct'] > 1. ]['treatment'].count()))"
      ],
      "execution_count": 5,
      "outputs": [
        {
          "output_type": "stream",
          "text": [
            "Control Group overspend > 1% of budget: 5716\n",
            "Treatment Group overspend > 1% of budget: 5180\n"
          ],
          "name": "stdout"
        }
      ]
    },
    {
      "cell_type": "markdown",
      "metadata": {
        "id": "R6nSWzAJUC5c"
      },
      "source": [
        "## **Question #2: Product Effectiveness**"
      ]
    },
    {
      "cell_type": "markdown",
      "metadata": {
        "id": "TFQknrF8R-hM"
      },
      "source": [
        "**2. Was the new product effective at reducing overspend, and was it more or less effective depending on the company size? Put together an analysis describing how the treatment affected overspend.**"
      ]
    },
    {
      "cell_type": "markdown",
      "metadata": {
        "id": "12XCqlIFzVe_"
      },
      "source": [
        "### **Approach:**\n",
        "\n",
        "1. Look at overall performance by using a one-sided t-test      \n",
        "  - Compare the average overspend percentage of the treatment and control group to see if we have statistical significance\n",
        "\n",
        "2. Segment by company size and repeat for each company size\n",
        "\n"
      ]
    },
    {
      "cell_type": "markdown",
      "metadata": {
        "id": "Jkh7ZSVSUb6Z"
      },
      "source": [
        "**Hypothesis:** By charging advertisers based on each time an ad is shown to a user rather than when its clicked, we can expect a decrease in overspending because of the anticipated reduced latency between delivery and billing.\n",
        "\n",
        "**H0:** *The overspend percent is the same between treatment and control groups.*\n",
        "\n",
        "**Ha:** *The overspend percent is different between treatment and control groups.*\n",
        "\n",
        "**alpha:** *0.05*\n",
        "\n",
        "**key metric:** *overspend_pct*"
      ]
    },
    {
      "cell_type": "code",
      "metadata": {
        "colab": {
          "base_uri": "https://localhost:8080/",
          "height": 0
        },
        "id": "PZAkJ5LYNdf8",
        "outputId": "c48c6798-c123-43b8-ce2c-92c94ac9505b"
      },
      "source": [
        "alpha = 0.05\n",
        "\n",
        "#  Given sufficiently large n and unknown population variance, we will use a t test to test for statistical significance. \n",
        "#  Despite the data looking slightly skewed, with large N we will rely on CLT to account for any\n",
        "#  non-normality\n",
        "\n",
        "t1, p1 = ttest_ind(df_control['overspend_pct'], df_treatment['overspend_pct'])\n",
        "print('company size: all')\n",
        "print(\"t = \" + str(t1))\n",
        "print(\"p = \" + str(p1))\n",
        "\n",
        "if p1 > alpha:\n",
        "  print('Fail to reject null')\n",
        "else:\n",
        "  print('Reject null')\n",
        "print(\"\")\n",
        "\n",
        "# Since the p value is less than 0.05 we can reject the null hypothesis and claim that the mean of the \n",
        "# two distributions are different and statistically significant "
      ],
      "execution_count": 9,
      "outputs": [
        {
          "output_type": "stream",
          "text": [
            "company size: all\n",
            "t = 6.676732178870896\n",
            "p = 2.526459450693738e-11\n",
            "Reject null\n",
            "\n"
          ],
          "name": "stdout"
        }
      ]
    },
    {
      "cell_type": "code",
      "metadata": {
        "colab": {
          "base_uri": "https://localhost:8080/",
          "height": 0
        },
        "id": "h3CnSntNSUI_",
        "outputId": "30e5c608-4398-4abc-cc64-a5bb0b850ce6"
      },
      "source": [
        "# perform t-test on data segmented by company size\n",
        "\n",
        "df_control_dict = {}\n",
        "df_treatment_dict = {}\n",
        "\n",
        "for size, sub_df in df_control.groupby('company_size'):\n",
        "  df_control_dict[size] = sub_df\n",
        "\n",
        "for size, sub_df in df_treatment.groupby('company_size'):\n",
        "  df_treatment_dict[size] = sub_df\n",
        "\n",
        "for size in ['small', 'medium', 'large']:\n",
        "  print('company size: ' + str(size))\n",
        "  t2, p2 = ttest_ind(df_control_dict[size]['overspend_pct'], df_treatment_dict[size]['overspend_pct'])\n",
        "  print(\"t = \" + str(t2))\n",
        "  print(\"p = \" + str(p2))\n",
        "  if p2 > alpha:\n",
        "    print('Fail to reject null')\n",
        "  else:\n",
        "    print('Reject null')\n",
        "  print(\"\")"
      ],
      "execution_count": 11,
      "outputs": [
        {
          "output_type": "stream",
          "text": [
            "company size: small\n",
            "t = 5.629760548364627\n",
            "p = 1.859387865572712e-08\n",
            "Reject null\n",
            "\n",
            "company size: medium\n",
            "t = -0.2562030814224952\n",
            "p = 0.7978310093551002\n",
            "Fail to reject null\n",
            "\n",
            "company size: large\n",
            "t = 6.466774927911017\n",
            "p = 1.0938563786462007e-10\n",
            "Reject null\n",
            "\n"
          ],
          "name": "stdout"
        }
      ]
    },
    {
      "cell_type": "markdown",
      "metadata": {
        "id": "pYYSW4KXVSwe"
      },
      "source": [
        "### **Quick Experiment Summary**\n",
        "\n",
        "Looking at the whole population, our p-value is essentially 0 and t > 0 so we can **reject the null hypothesis**. In other words, the new product is effective at reducing overspending.\n",
        "\n",
        "By further segmenting, we can see that the new billing system is most effective for large companies and small companies - both of which have p-values that approach 0 and t values greater than 0. But the new product is **not effective for medium-sized companies**."
      ]
    },
    {
      "cell_type": "code",
      "metadata": {
        "colab": {
          "base_uri": "https://localhost:8080/",
          "height": 137
        },
        "id": "vxeyj7rNWhqB",
        "outputId": "d9369a8e-ba39-4be1-c645-5967fe22c1d8"
      },
      "source": [
        "# create table with side by side comparison of overspending based on company size\n",
        "df_summary = df.groupby(by=['treatment', 'company_size']).agg(samples=('treatment','count'),overspend_avg=('overspend_pct','mean'),overspend_med=('overspend_pct','median'),).reset_index()\n",
        "df_summary_all = df.groupby(by=['treatment']).agg(samples=('treatment','count'),overspend_avg=('overspend_pct','mean'),overspend_med=('overspend_pct','median'),).reset_index()\n",
        "df_true = df_summary[df_summary['treatment'] == True]\n",
        "df_false = df_summary[df_summary['treatment'] == False]\n",
        "df_summary_size_by_side = df_false.merge(df_true, on = 'company_size')\n",
        "df_summary_size_by_side"
      ],
      "execution_count": 80,
      "outputs": [
        {
          "output_type": "execute_result",
          "data": {
            "text/html": [
              "<div>\n",
              "<style scoped>\n",
              "    .dataframe tbody tr th:only-of-type {\n",
              "        vertical-align: middle;\n",
              "    }\n",
              "\n",
              "    .dataframe tbody tr th {\n",
              "        vertical-align: top;\n",
              "    }\n",
              "\n",
              "    .dataframe thead th {\n",
              "        text-align: right;\n",
              "    }\n",
              "</style>\n",
              "<table border=\"1\" class=\"dataframe\">\n",
              "  <thead>\n",
              "    <tr style=\"text-align: right;\">\n",
              "      <th></th>\n",
              "      <th>treatment_x</th>\n",
              "      <th>company_size</th>\n",
              "      <th>samples_x</th>\n",
              "      <th>overspend_avg_x</th>\n",
              "      <th>overspend_med_x</th>\n",
              "      <th>treatment_y</th>\n",
              "      <th>samples_y</th>\n",
              "      <th>overspend_avg_y</th>\n",
              "      <th>overspend_med_y</th>\n",
              "    </tr>\n",
              "  </thead>\n",
              "  <tbody>\n",
              "    <tr>\n",
              "      <th>0</th>\n",
              "      <td>False</td>\n",
              "      <td>large</td>\n",
              "      <td>2701</td>\n",
              "      <td>12.293655</td>\n",
              "      <td>4.015523</td>\n",
              "      <td>True</td>\n",
              "      <td>2445</td>\n",
              "      <td>3.263995</td>\n",
              "      <td>2.505261</td>\n",
              "    </tr>\n",
              "    <tr>\n",
              "      <th>1</th>\n",
              "      <td>False</td>\n",
              "      <td>medium</td>\n",
              "      <td>735</td>\n",
              "      <td>4.557030</td>\n",
              "      <td>2.243608</td>\n",
              "      <td>True</td>\n",
              "      <td>692</td>\n",
              "      <td>5.144382</td>\n",
              "      <td>2.470825</td>\n",
              "    </tr>\n",
              "    <tr>\n",
              "      <th>2</th>\n",
              "      <td>False</td>\n",
              "      <td>small</td>\n",
              "      <td>4297</td>\n",
              "      <td>37.064162</td>\n",
              "      <td>12.994556</td>\n",
              "      <td>True</td>\n",
              "      <td>4604</td>\n",
              "      <td>27.096085</td>\n",
              "      <td>7.765122</td>\n",
              "    </tr>\n",
              "  </tbody>\n",
              "</table>\n",
              "</div>"
            ],
            "text/plain": [
              "   treatment_x company_size  ...  overspend_avg_y  overspend_med_y\n",
              "0        False        large  ...         3.263995         2.505261\n",
              "1        False       medium  ...         5.144382         2.470825\n",
              "2        False        small  ...        27.096085         7.765122\n",
              "\n",
              "[3 rows x 9 columns]"
            ]
          },
          "metadata": {
            "tags": []
          },
          "execution_count": 80
        }
      ]
    },
    {
      "cell_type": "code",
      "metadata": {
        "colab": {
          "base_uri": "https://localhost:8080/",
          "height": 107
        },
        "id": "HziBcpozWApR",
        "outputId": "1170e795-5ee9-4d6d-e9e9-5c66ea34b5f2"
      },
      "source": [
        "df_summary_all\n",
        "\n",
        "# when aggregated, we can see that the average overspend percent decreased from 25% to 17% between the control and treatment group."
      ],
      "execution_count": 81,
      "outputs": [
        {
          "output_type": "execute_result",
          "data": {
            "text/html": [
              "<div>\n",
              "<style scoped>\n",
              "    .dataframe tbody tr th:only-of-type {\n",
              "        vertical-align: middle;\n",
              "    }\n",
              "\n",
              "    .dataframe tbody tr th {\n",
              "        vertical-align: top;\n",
              "    }\n",
              "\n",
              "    .dataframe thead th {\n",
              "        text-align: right;\n",
              "    }\n",
              "</style>\n",
              "<table border=\"1\" class=\"dataframe\">\n",
              "  <thead>\n",
              "    <tr style=\"text-align: right;\">\n",
              "      <th></th>\n",
              "      <th>treatment</th>\n",
              "      <th>samples</th>\n",
              "      <th>overspend_avg</th>\n",
              "      <th>overspend_med</th>\n",
              "    </tr>\n",
              "  </thead>\n",
              "  <tbody>\n",
              "    <tr>\n",
              "      <th>0</th>\n",
              "      <td>False</td>\n",
              "      <td>7733</td>\n",
              "      <td>25.32255</td>\n",
              "      <td>6.455069</td>\n",
              "    </tr>\n",
              "    <tr>\n",
              "      <th>1</th>\n",
              "      <td>True</td>\n",
              "      <td>7741</td>\n",
              "      <td>17.60635</td>\n",
              "      <td>4.626489</td>\n",
              "    </tr>\n",
              "  </tbody>\n",
              "</table>\n",
              "</div>"
            ],
            "text/plain": [
              "   treatment  samples  overspend_avg  overspend_med\n",
              "0      False     7733       25.32255       6.455069\n",
              "1       True     7741       17.60635       4.626489"
            ]
          },
          "metadata": {
            "tags": []
          },
          "execution_count": 81
        }
      ]
    },
    {
      "cell_type": "markdown",
      "metadata": {
        "id": "jh4u1PKgVRmv"
      },
      "source": [
        "### **Additional observations**\n",
        "\n",
        "By segmenting overspend percent by company size, we can see that the overspending percent was reduced in the treatment group for large and small companies (which is validated with our t-test) - droping from 12% to 3% and 37% to 27%, respectively. However, we can make an interesting observation that overspend for medium-sized companies has increased in the treatment group going from 4.5% to 5.1%.\n",
        "\n",
        "The overspend percent for medium companies is the reverse of what we see as a whole. If we look at the median overspend percent, we can observe that the overspend percent is not as large as that of the mean. This anomoly can be attributed to a few factors. One of which can be the smaller sample size. There are only ~700 medium size companies, but thousands of small and large companies.I am also curious how a \"medium\" sized company is defined - it possible that there is a lot of overlap between small/medium and medium/large which is why our samples are so low and behavior is inconsistent. (I talk about this more below.)"
      ]
    },
    {
      "cell_type": "markdown",
      "metadata": {
        "id": "DGSj29DJBkli"
      },
      "source": [
        "### **Other things worth thinking about**\n",
        "\n",
        "Given the limited data set there are few areas worth exploring before making a final decision on product effectiveness.\n",
        "\n",
        "**1. Customer Satisfaction**\n",
        "\n",
        "One area to look out for is overall customer statisfaction. Since we are essentially modifying the billing model for our advertisers, charging by ad delivery rather than click, we want to ensure that our advertisers still feel like they are getting their \"moneys worth\". \n",
        "\n",
        "This can be measurerd and monitored as a gaurdrail metric. For the same budget and ad in each product, our advertisers should be recieving the same user engagement/awareness.\n",
        "\n",
        "**2. Definition of company_size**\n",
        "\n",
        "Knowing how company size is assigned can be very valuable in making better data decisions. Company size can could be based on employee count, revenue, budget, company age, etc or even a combination of these factors. Clarity on how an advertiser is categorized can help us better understand the experiment results and how to better tailor the product to each company type's needs. \n",
        "\n",
        "**2. Novelty Effect**\n",
        "\n",
        "The data we have has been collected over the span of 1 week. Which may not be enough time to account for any seasonality or novelty effects - as users and advertisers often need time to ramp up and try to better understand the how to best use the product. I also question whether 1 week is enough for certain engagement, adoption, and awareness metrics to properly mature. "
      ]
    },
    {
      "cell_type": "markdown",
      "metadata": {
        "id": "2Pd8tJUlIfek"
      },
      "source": [
        "### **Final Thoughts**\n",
        "\n",
        "Overall, it appears that the new product **is indeed effective** at reducing overspending in most cases. I would recommend the product team to continue to explore the option and the possiblity to roll out this new billing structure. \n",
        "\n",
        "If the team has the bandwidth, resources, and/or time I would recommend a more controlled roll-out. Perhaps starting with large companies and/or small companies to see how they react towards the product over a longer period of time. Then using the additional data collected and feedback from advertisers, the product team can iterate and improve before launching at 100%.\n"
      ]
    },
    {
      "cell_type": "markdown",
      "metadata": {
        "id": "3OGXo6FTWwuv"
      },
      "source": [
        "## **Question 3: Suspicious New User Behavior**"
      ]
    },
    {
      "cell_type": "markdown",
      "metadata": {
        "id": "E53A8gCfSLad"
      },
      "source": [
        "**3. A product manager on the team is concerned that certain advertisers in the treatment group are entering lower budgets because they are wary of the new product. Provide some evidence to support their suspicions, or show that any differences in budgets are likely due to random fluctuations.**"
      ]
    },
    {
      "cell_type": "markdown",
      "metadata": {
        "id": "dsSDUayvXpYO"
      },
      "source": [
        "### **Approach**\n",
        "\n",
        "We can see if there is a difference in campaign budgets between the two groups by performing another t-test. This time we are using a one-sided t-test.\n",
        "\n",
        "**Null Hypothesis:** The null hypothesis will be that the campaign budget of the control treatment is no more than that of the campaign budget of our treatment group.\n",
        "\n",
        "H0: Control <= Test\n",
        "\n",
        "**Alternative Hypothesis:** The alternative hypothesis will be that the campaign budget of the control treatment is more than that of the campaign budget of our treatment group.\n",
        "\n",
        "Ha: Control > Test\n",
        "\n",
        "**alpha:** 0.05\n",
        "\n",
        "We can perform these tests on all companies as well as it segmented by company size."
      ]
    },
    {
      "cell_type": "code",
      "metadata": {
        "id": "P3uAh8LT4GG0",
        "colab": {
          "base_uri": "https://localhost:8080/",
          "height": 0
        },
        "outputId": "c6b4cf33-8d0b-4768-ac9b-ee6eb61a5abf"
      },
      "source": [
        "t1, p1 = ttest_ind(df_control['campaign_budget'], df_treatment['campaign_budget'])\n",
        "p1 = p1/2\n",
        "print('company size: all')\n",
        "print(\"t = \" + str(t1))\n",
        "print(\"p = \" + str(p1))\n",
        "\n",
        "if p1 < alpha and t1 > 0:\n",
        "  print('Reject null')\n",
        "else:\n",
        "  print('Fail to reject null')\n",
        "print(\"\")\n",
        "\n",
        "df_control_dict = {}\n",
        "df_test_dict = {}\n",
        "\n",
        "for size, sub_df in df_control.groupby('company_size'):\n",
        "  df_control_dict[size] = sub_df\n",
        "\n",
        "for size, sub_df in df_treatment.groupby('company_size'):\n",
        "  df_test_dict[size] = sub_df\n",
        "\n",
        "for size in ['small', 'medium', 'large']:\n",
        "  print('company size: ' + str(size))\n",
        "  t2, p2 = ttest_ind(df_control_dict[size]['campaign_budget'], df_test_dict[size]['campaign_budget'])\n",
        "  p2 = p2/2\n",
        "  print(\"t = \" + str(t2))\n",
        "  print(\"p = \" + str(p2))\n",
        "  if p2 < alpha and t2 > 0:\n",
        "    print('Reject null')\n",
        "  else:\n",
        "    print('Fail to reject null')\n",
        "  print(\"\")"
      ],
      "execution_count": 77,
      "outputs": [
        {
          "output_type": "stream",
          "text": [
            "company size: all\n",
            "t = -1.4196728095175308\n",
            "p = 0.07786155243121945\n",
            "Fail to reject null\n",
            "\n",
            "company size: small\n",
            "t = 2.553323378723892\n",
            "p = 0.005343284160711176\n",
            "Reject null\n",
            "\n",
            "company size: medium\n",
            "t = 1.145686261065636\n",
            "p = 0.12605867702155\n",
            "Fail to reject null\n",
            "\n",
            "company size: large\n",
            "t = -2.5378622385891805\n",
            "p = 0.00559122471904406\n",
            "Fail to reject null\n",
            "\n"
          ],
          "name": "stdout"
        }
      ]
    },
    {
      "cell_type": "markdown",
      "metadata": {
        "id": "FmlkSp5cYoJG"
      },
      "source": [
        "**Summary**\n",
        "\n",
        "We see that when looking at all companies, the p-value is greater than 0.05, and therefore we **fail to reject the null hypothesis**. In other words, when looking at all companies aggregated, the average campaign budget in the treatment group is no less than that of the control group. We could even say the PM's intuition is wrong.\n",
        "\n",
        "However, if we segment the data by company size we see that the average campaign budgets do seem to differ between control and treatment. We can calcuate more metrics to get a better understanding of what's happening."
      ]
    },
    {
      "cell_type": "code",
      "metadata": {
        "id": "4KwXTGmLZPSW"
      },
      "source": [
        "# creating a side by side comparison of the campaign budgets when separated by company size\n",
        "\n",
        "df_summary = df.groupby(by=['treatment', 'company_size']).agg(samples=('treatment','count'),budget_avg=('campaign_budget','mean'),).reset_index()\n",
        "df_true = df_summary[df_summary['treatment'] == True]\n",
        "df_false = df_summary[df_summary['treatment'] == False]\n",
        "df_summary_size_by_side = df_false.merge(df_true, on = 'company_size')"
      ],
      "execution_count": 72,
      "outputs": []
    },
    {
      "cell_type": "code",
      "metadata": {
        "colab": {
          "base_uri": "https://localhost:8080/",
          "height": 137
        },
        "id": "SEIf6b25Zlff",
        "outputId": "8d3dfd58-22b8-4b28-e9f2-3fb8b2426b87"
      },
      "source": [
        "# formatting and adjusting the table \n",
        "\n",
        "df_summary_size_by_side = df_summary_size_by_side.reindex(sorted(df_summary_size_by_side.columns), axis=1)\n",
        "df_summary_size_by_side['difference'] = df_summary_size_by_side['budget_avg_y']-df_summary_size_by_side['budget_avg_x']\n",
        "\n",
        "cols = df_summary_size_by_side.columns.tolist()\n",
        "cols = cols[-3:] + cols[:-3]\n",
        "\n",
        "df_summary_size_by_side = df_summary_size_by_side[cols]\n",
        "df_summary_size_by_side\n",
        "\n",
        "# when separate - budgets decrease for small and medium companies ( -1953 and -1730). And increase for large companies (5933)"
      ],
      "execution_count": 73,
      "outputs": [
        {
          "output_type": "execute_result",
          "data": {
            "text/html": [
              "<div>\n",
              "<style scoped>\n",
              "    .dataframe tbody tr th:only-of-type {\n",
              "        vertical-align: middle;\n",
              "    }\n",
              "\n",
              "    .dataframe tbody tr th {\n",
              "        vertical-align: top;\n",
              "    }\n",
              "\n",
              "    .dataframe thead th {\n",
              "        text-align: right;\n",
              "    }\n",
              "</style>\n",
              "<table border=\"1\" class=\"dataframe\">\n",
              "  <thead>\n",
              "    <tr style=\"text-align: right;\">\n",
              "      <th></th>\n",
              "      <th>treatment_x</th>\n",
              "      <th>treatment_y</th>\n",
              "      <th>difference</th>\n",
              "      <th>budget_avg_x</th>\n",
              "      <th>budget_avg_y</th>\n",
              "      <th>company_size</th>\n",
              "      <th>samples_x</th>\n",
              "      <th>samples_y</th>\n",
              "    </tr>\n",
              "  </thead>\n",
              "  <tbody>\n",
              "    <tr>\n",
              "      <th>0</th>\n",
              "      <td>False</td>\n",
              "      <td>True</td>\n",
              "      <td>11627.856822</td>\n",
              "      <td>5933.969191</td>\n",
              "      <td>17561.826013</td>\n",
              "      <td>large</td>\n",
              "      <td>2701</td>\n",
              "      <td>2445</td>\n",
              "    </tr>\n",
              "    <tr>\n",
              "      <th>1</th>\n",
              "      <td>False</td>\n",
              "      <td>True</td>\n",
              "      <td>-1730.184149</td>\n",
              "      <td>6342.855039</td>\n",
              "      <td>4612.670890</td>\n",
              "      <td>medium</td>\n",
              "      <td>735</td>\n",
              "      <td>692</td>\n",
              "    </tr>\n",
              "    <tr>\n",
              "      <th>2</th>\n",
              "      <td>False</td>\n",
              "      <td>True</td>\n",
              "      <td>-1953.175856</td>\n",
              "      <td>3538.655751</td>\n",
              "      <td>1585.479895</td>\n",
              "      <td>small</td>\n",
              "      <td>4297</td>\n",
              "      <td>4604</td>\n",
              "    </tr>\n",
              "  </tbody>\n",
              "</table>\n",
              "</div>"
            ],
            "text/plain": [
              "   treatment_x  treatment_y    difference  ...  company_size  samples_x samples_y\n",
              "0        False         True  11627.856822  ...         large       2701      2445\n",
              "1        False         True  -1730.184149  ...        medium        735       692\n",
              "2        False         True  -1953.175856  ...         small       4297      4604\n",
              "\n",
              "[3 rows x 8 columns]"
            ]
          },
          "metadata": {
            "tags": []
          },
          "execution_count": 73
        }
      ]
    },
    {
      "cell_type": "code",
      "metadata": {
        "colab": {
          "base_uri": "https://localhost:8080/",
          "height": 107
        },
        "id": "ToJ949grbVUR",
        "outputId": "be137b71-79d6-4bbc-e508-b6741f4371c3"
      },
      "source": [
        "# looking at campaign budgets when aggregated\n",
        "\n",
        "df_summary_all = df.groupby(by=['treatment']).agg(samples=('treatment','count'),budget_avg=('campaign_budget','mean'),).reset_index()\n",
        "df_summary_all\n",
        "\n",
        "# when agg - budgets increase by 2,260"
      ],
      "execution_count": 74,
      "outputs": [
        {
          "output_type": "execute_result",
          "data": {
            "text/html": [
              "<div>\n",
              "<style scoped>\n",
              "    .dataframe tbody tr th:only-of-type {\n",
              "        vertical-align: middle;\n",
              "    }\n",
              "\n",
              "    .dataframe tbody tr th {\n",
              "        vertical-align: top;\n",
              "    }\n",
              "\n",
              "    .dataframe thead th {\n",
              "        text-align: right;\n",
              "    }\n",
              "</style>\n",
              "<table border=\"1\" class=\"dataframe\">\n",
              "  <thead>\n",
              "    <tr style=\"text-align: right;\">\n",
              "      <th></th>\n",
              "      <th>treatment</th>\n",
              "      <th>samples</th>\n",
              "      <th>budget_avg</th>\n",
              "    </tr>\n",
              "  </thead>\n",
              "  <tbody>\n",
              "    <tr>\n",
              "      <th>0</th>\n",
              "      <td>False</td>\n",
              "      <td>7733</td>\n",
              "      <td>4641.827622</td>\n",
              "    </tr>\n",
              "    <tr>\n",
              "      <th>1</th>\n",
              "      <td>True</td>\n",
              "      <td>7741</td>\n",
              "      <td>6902.232566</td>\n",
              "    </tr>\n",
              "  </tbody>\n",
              "</table>\n",
              "</div>"
            ],
            "text/plain": [
              "   treatment  samples   budget_avg\n",
              "0      False     7733  4641.827622\n",
              "1       True     7741  6902.232566"
            ]
          },
          "metadata": {
            "tags": []
          },
          "execution_count": 74
        }
      ]
    },
    {
      "cell_type": "markdown",
      "metadata": {
        "id": "lwjIIe-Zc3cm"
      },
      "source": [
        "**Comments : Simpson's Paradox**?\n",
        "\n",
        "We are observing a case of Simpson's Paradox when it comes to campaign budgets. When aggregated, we see that the treatment group's budgets ***are not lower*** than the control group. If anything, the treatment group has budgets higher than that of the control group (\\$6,902 vs \\$4,641). However, once the data is separated into groups by company-size we observe the opposite (average campaign budgets ***are lower*** for the some treatment groups).\n",
        "\n",
        "\n",
        "With conflicting results, it is up to us to decide how we want to look at the data - aggregated or separated. In this case, it seems to make the most sense to look at the data separated by company-size, rather than combining all data points together. This is because different company sizes may come with other influencial factors/confounding variables that the data currently is not showing. For example, smaller companies may have a lower risk tolerance than that of a large company. So as a result, smaller companies may be more resistant and passive to any feature change hence the decrease in campaign budgets. \n",
        "\n",
        "I would tell the product manager that their suspicions are correct for certain advertisers. From our t-test and analysis we can see that:\n",
        "- **small advertisers** in the treatment group are setting budgets *less than* that of the control group\n",
        "- **medium advertisers** in the treatment group are setting budgets about *equal to* that of the control group\n",
        "- **large advertisers** in the treatment group are setting budgets *greater than* that of the control group\n",
        "\n",
        "\n",
        "The PM can leverage surveys, write-ins, or account managers to gather feedback from our advertisers to further validate the suspicion that the advertsiers are wary about the new product."
      ]
    },
    {
      "cell_type": "markdown",
      "metadata": {
        "id": "4JkpvIUTVxrO"
      },
      "source": [
        "## **Appendix**"
      ]
    },
    {
      "cell_type": "markdown",
      "metadata": {
        "id": "ml3KBDctSR2a"
      },
      "source": [
        "### **EDA: Exploratory Data Analysis**"
      ]
    },
    {
      "cell_type": "markdown",
      "metadata": {
        "id": "rDyZJxNkDaVS"
      },
      "source": [
        "#### **Data Definitions**\n",
        "\n",
        "**treatment**    \n",
        "bool   \n",
        "If true, the campaign is using the new product. If false, it is using the old product.\n",
        "      \n",
        "**company_size**  \n",
        "categorical    \n",
        "A small company is typically a local business, a medium company is a smaller national brand (e.g. Dell Computers), and a large company is a global brand (e.g. McDonalds). This is included because businesses of different sizes use Twitter ads in very different ways and may react differently to the new product.\n",
        "\n",
        "**campaign_spend**   \n",
        "decimal    \n",
        "Campaign spend during the experiment \n",
        "\n",
        "**campaign_budget**   \n",
        "decimal    \n",
        "Campaign budget during the experiment"
      ]
    },
    {
      "cell_type": "markdown",
      "metadata": {
        "id": "WOMjRjv7SbeI"
      },
      "source": [
        "### **Data Distribution**\n",
        "\n",
        "The typical percent of overspend is skewed right with a few outliers of extreme overspending. If the account with high overspending is further segmented by company size, we see that small companies experience the highest overspending %. This is most likely because smaller companies have smaller budgets. So even if the amount overspent is less than those of other businesses, it will appear larger when calculated as a percentage.  \n",
        "\n",
        "Since these outliers are seen in both the control and treatment groups, we will make the assumption that the outliers are not caused by the product feature itself and keep them included in the data set."
      ]
    },
    {
      "cell_type": "code",
      "metadata": {
        "colab": {
          "base_uri": "https://localhost:8080/",
          "height": 282
        },
        "id": "y9MHdHoubD07",
        "outputId": "b7582cea-20b7-4b7b-ae66-84a9adffc06c"
      },
      "source": [
        "df['overspend_pct'].plot.hist()\n",
        "df_control['overspend_pct'].plot.hist()\n",
        "df_treatment['overspend_pct'].plot.hist()"
      ],
      "execution_count": 12,
      "outputs": [
        {
          "output_type": "execute_result",
          "data": {
            "text/plain": [
              "<matplotlib.axes._subplots.AxesSubplot at 0x7fe7c8088e48>"
            ]
          },
          "metadata": {
            "tags": []
          },
          "execution_count": 12
        },
        {
          "output_type": "display_data",
          "data": {
            "image/png": "[encoded data removed]",
            "text/plain": [
              "<Figure size 432x288 with 1 Axes>"
            ]
          },
          "metadata": {
            "tags": [],
            "needs_background": "light"
          }
        }
      ]
    },
    {
      "cell_type": "code",
      "metadata": {
        "id": "f2IBzmspuQ09"
      },
      "source": [
        "# df_treatment.describe()\n",
        "# df_control.head()"
      ],
      "execution_count": 13,
      "outputs": []
    },
    {
      "cell_type": "code",
      "metadata": {
        "colab": {
          "base_uri": "https://localhost:8080/",
          "height": 227
        },
        "id": "WGt7l4vUihQe",
        "outputId": "0360b330-a4ca-4a7e-ec27-6eade4643edb"
      },
      "source": [
        "df[df['overspend_pct'] > 300].groupby(by = ['treatment','company_size'])['campaign_budget'].count().reset_index()"
      ],
      "execution_count": 14,
      "outputs": [
        {
          "output_type": "execute_result",
          "data": {
            "text/html": [
              "<div>\n",
              "<style scoped>\n",
              "    .dataframe tbody tr th:only-of-type {\n",
              "        vertical-align: middle;\n",
              "    }\n",
              "\n",
              "    .dataframe tbody tr th {\n",
              "        vertical-align: top;\n",
              "    }\n",
              "\n",
              "    .dataframe thead th {\n",
              "        text-align: right;\n",
              "    }\n",
              "</style>\n",
              "<table border=\"1\" class=\"dataframe\">\n",
              "  <thead>\n",
              "    <tr style=\"text-align: right;\">\n",
              "      <th></th>\n",
              "      <th>treatment</th>\n",
              "      <th>company_size</th>\n",
              "      <th>campaign_budget</th>\n",
              "    </tr>\n",
              "  </thead>\n",
              "  <tbody>\n",
              "    <tr>\n",
              "      <th>0</th>\n",
              "      <td>False</td>\n",
              "      <td>large</td>\n",
              "      <td>27</td>\n",
              "    </tr>\n",
              "    <tr>\n",
              "      <th>1</th>\n",
              "      <td>False</td>\n",
              "      <td>medium</td>\n",
              "      <td>3</td>\n",
              "    </tr>\n",
              "    <tr>\n",
              "      <th>2</th>\n",
              "      <td>False</td>\n",
              "      <td>small</td>\n",
              "      <td>176</td>\n",
              "    </tr>\n",
              "    <tr>\n",
              "      <th>3</th>\n",
              "      <td>True</td>\n",
              "      <td>large</td>\n",
              "      <td>16</td>\n",
              "    </tr>\n",
              "    <tr>\n",
              "      <th>4</th>\n",
              "      <td>True</td>\n",
              "      <td>medium</td>\n",
              "      <td>4</td>\n",
              "    </tr>\n",
              "    <tr>\n",
              "      <th>5</th>\n",
              "      <td>True</td>\n",
              "      <td>small</td>\n",
              "      <td>152</td>\n",
              "    </tr>\n",
              "  </tbody>\n",
              "</table>\n",
              "</div>"
            ],
            "text/plain": [
              "   treatment company_size  campaign_budget\n",
              "0      False        large               27\n",
              "1      False       medium                3\n",
              "2      False        small              176\n",
              "3       True        large               16\n",
              "4       True       medium                4\n",
              "5       True        small              152"
            ]
          },
          "metadata": {
            "tags": []
          },
          "execution_count": 14
        }
      ]
    },
    {
      "cell_type": "code",
      "metadata": {
        "colab": {
          "base_uri": "https://localhost:8080/",
          "height": 167
        },
        "id": "qEr5AdBki2WH",
        "outputId": "ce747f71-18ee-4cc7-f806-26d9a1bfddf5"
      },
      "source": [
        "df.groupby('company_size').agg(samples = ('treatment','count'), avg_budget_amount= ('campaign_budget','mean'), avg_spend_amount = ('campaign_spend','mean'))"
      ],
      "execution_count": 15,
      "outputs": [
        {
          "output_type": "execute_result",
          "data": {
            "text/html": [
              "<div>\n",
              "<style scoped>\n",
              "    .dataframe tbody tr th:only-of-type {\n",
              "        vertical-align: middle;\n",
              "    }\n",
              "\n",
              "    .dataframe tbody tr th {\n",
              "        vertical-align: top;\n",
              "    }\n",
              "\n",
              "    .dataframe thead th {\n",
              "        text-align: right;\n",
              "    }\n",
              "</style>\n",
              "<table border=\"1\" class=\"dataframe\">\n",
              "  <thead>\n",
              "    <tr style=\"text-align: right;\">\n",
              "      <th></th>\n",
              "      <th>samples</th>\n",
              "      <th>avg_budget_amount</th>\n",
              "      <th>avg_spend_amount</th>\n",
              "    </tr>\n",
              "    <tr>\n",
              "      <th>company_size</th>\n",
              "      <th></th>\n",
              "      <th></th>\n",
              "      <th></th>\n",
              "    </tr>\n",
              "  </thead>\n",
              "  <tbody>\n",
              "    <tr>\n",
              "      <th>large</th>\n",
              "      <td>5146</td>\n",
              "      <td>11458.669916</td>\n",
              "      <td>9523.545908</td>\n",
              "    </tr>\n",
              "    <tr>\n",
              "      <th>medium</th>\n",
              "      <td>1427</td>\n",
              "      <td>5503.830910</td>\n",
              "      <td>4086.094606</td>\n",
              "    </tr>\n",
              "    <tr>\n",
              "      <th>small</th>\n",
              "      <td>8901</td>\n",
              "      <td>2528.384810</td>\n",
              "      <td>2362.719570</td>\n",
              "    </tr>\n",
              "  </tbody>\n",
              "</table>\n",
              "</div>"
            ],
            "text/plain": [
              "              samples  avg_budget_amount  avg_spend_amount\n",
              "company_size                                              \n",
              "large            5146       11458.669916       9523.545908\n",
              "medium           1427        5503.830910       4086.094606\n",
              "small            8901        2528.384810       2362.719570"
            ]
          },
          "metadata": {
            "tags": []
          },
          "execution_count": 15
        }
      ]
    },
    {
      "cell_type": "code",
      "metadata": {
        "colab": {
          "base_uri": "https://localhost:8080/",
          "height": 374
        },
        "id": "ZHi60T2uRaE3",
        "outputId": "0bf7ee24-0ed1-48fd-ac5e-0d78f360752b"
      },
      "source": [
        "df.boxplot(by ='treatment', column =['overspend_pct'], grid = False) "
      ],
      "execution_count": 16,
      "outputs": [
        {
          "output_type": "stream",
          "text": [
            "/usr/local/lib/python3.6/dist-packages/numpy/core/_asarray.py:83: VisibleDeprecationWarning: Creating an ndarray from ragged nested sequences (which is a list-or-tuple of lists-or-tuples-or ndarrays with different lengths or shapes) is deprecated. If you meant to do this, you must specify 'dtype=object' when creating the ndarray\n",
            "  return array(a, dtype, copy=False, order=order)\n"
          ],
          "name": "stderr"
        },
        {
          "output_type": "execute_result",
          "data": {
            "text/plain": [
              "<matplotlib.axes._subplots.AxesSubplot at 0x7fe7c748a588>"
            ]
          },
          "metadata": {
            "tags": []
          },
          "execution_count": 16
        },
        {
          "output_type": "display_data",
          "data": {
            "image/png": "[encoded data removed]",
            "text/plain": [
              "<Figure size 432x288 with 1 Axes>"
            ]
          },
          "metadata": {
            "tags": [],
            "needs_background": "light"
          }
        }
      ]
    },
    {
      "cell_type": "code",
      "metadata": {
        "colab": {
          "base_uri": "https://localhost:8080/",
          "height": 0
        },
        "id": "kPnUiRgu1ffk",
        "outputId": "9d6fae03-5d27-4a37-e09d-c6ab6ad05224"
      },
      "source": [
        "# metric exploration\n",
        "control_budget_mean = df_control['campaign_budget'].mean()\n",
        "control_budget_std = df_control['campaign_budget'].std()\n",
        "control_spend_mean = df_control['campaign_spend'].mean()\n",
        "control_spend_std = df_control['campaign_spend'].std()\n",
        "print('control budget mean: ' + str(control_budget_mean))\n",
        "print('control budget std: ' + str(control_budget_std))\n",
        "print('control spend mean: ' + str(control_spend_mean))\n",
        "print('control spend std: ' + str(control_spend_std))\n",
        "print(\"\")\n",
        "\n",
        "control_count = df_control['campaign_budget'].count()\n",
        "control_overspend_count = str(df_control[df_control['overspend_pct'] > 1.]['treatment'].count())\n",
        "control_percent_overspend = float(control_overspend_count) * 100. / control_count\n",
        "print('control brand count: ' + str(control_count))\n",
        "print('control overspend count: ' + str(control_overspend_count))\n",
        "print('control percent overspend: ' + str(control_percent_overspend))\n",
        "print(\"\")\n",
        "\n",
        "treatment_budget_mean = df_treatment['campaign_budget'].mean()\n",
        "treatment_budget_std = df_treatment['campaign_budget'].std()\n",
        "treatment_spend_mean = df_treatment['campaign_spend'].mean()\n",
        "treatment_spend_std = df_treatment['campaign_spend'].std()\n",
        "print('treatment budget mean: ' + str(treatment_budget_mean))\n",
        "print('treatment spend std: ' + str(treatment_budget_std))\n",
        "print('treatment spend mean: ' + str(treatment_spend_mean))\n",
        "print('treatment spend std: ' + str(treatment_spend_std))\n",
        "print(\"\")\n",
        "\n",
        "treatment_count = df_treatment['campaign_budget'].count()\n",
        "treatment_overspend_count = str(df_treatment[df_treatment['overspend_pct'] > 1.]['treatment'].count())\n",
        "treatment_percent_overspend = float(treatment_overspend_count) * 100. / treatment_count\n",
        "print('treatment brand count: ' + str(treatment_count))\n",
        "print('treatment overspend count: ' + str(treatment_overspend_count))\n",
        "print('treatment percent overspend: ' + str(treatment_percent_overspend))\n",
        "print(\"\")"
      ],
      "execution_count": 17,
      "outputs": [
        {
          "output_type": "stream",
          "text": [
            "control budget mean: 4641.827621712152\n",
            "control budget std: 47765.75379742044\n",
            "control spend mean: 3950.849714147173\n",
            "control spend std: 34024.71002591698\n",
            "\n",
            "control brand count: 7733\n",
            "control overspend count: 5716\n",
            "control percent overspend: 73.91697918013708\n",
            "\n",
            "treatment budget mean: 6902.23256607674\n",
            "treatment spend std: 131623.54411277588\n",
            "treatment spend mean: 5854.239800968885\n",
            "treatment spend std: 85623.12214346245\n",
            "\n",
            "treatment brand count: 7741\n",
            "treatment overspend count: 5180\n",
            "treatment percent overspend: 66.91641906730396\n",
            "\n"
          ],
          "name": "stdout"
        }
      ]
    },
    {
      "cell_type": "markdown",
      "metadata": {
        "id": "2zq_Zpx8Ns3T"
      },
      "source": [
        "### **Question 2 Extras:**"
      ]
    },
    {
      "cell_type": "code",
      "metadata": {
        "colab": {
          "base_uri": "https://localhost:8080/",
          "height": 0
        },
        "id": "zZRNkbY-Vyok",
        "outputId": "08ae21c1-a8db-4990-ff22-be1553ed0f6b"
      },
      "source": [
        "# T statistic calculation\n",
        "\n",
        "## Calculate the Standard Deviation\n",
        "#Calculate the variance to get the standard deviation\n",
        "\n",
        "#For unbiased max likelihood estimate we have to divide the var by N-1, and therefore the parameter ddof = 1\n",
        "var_a = df_control['overspend_pct'].var(ddof=1)\n",
        "var_b = df_treatment['overspend_pct'].var(ddof=1)\n",
        "\n",
        "#std deviation\n",
        "s = np.sqrt((var_a) / control_count + (var_b)/ treatment_count)\n",
        "\n",
        "## Calculate the t-statistics\n",
        "t = (df_control['overspend_pct'].mean() - df_treatment['overspend_pct'].mean())/s\n",
        "\n",
        "## Compare with the critical t-value\n",
        "#Degrees of freedom\n",
        "dof = control_count + treatment_count - 2\n",
        "\n",
        "# #p-value after comparison with the t \n",
        "p = 1 - stats.t.cdf(t,df=dof)\n",
        "\n",
        "print(\"t = \" + str(t))\n",
        "print(\"p = \" + str(2*p)) # p-value = 0\n",
        "\n",
        "# If p <= alpha: Reject null hypothesis that the means are equal. \n"
      ],
      "execution_count": 21,
      "outputs": [
        {
          "output_type": "stream",
          "text": [
            "t = 6.676538402129246\n",
            "p = 2.5297985928318667e-11\n"
          ],
          "name": "stdout"
        }
      ]
    },
    {
      "cell_type": "markdown",
      "metadata": {
        "id": "WfTlmEMhNyiW"
      },
      "source": [
        "### **Question 3 Extras**"
      ]
    },
    {
      "cell_type": "markdown",
      "metadata": {
        "id": "Un3ad6SyA32f"
      },
      "source": [
        "\n",
        "Looking at the distribution of the budgets, we can see that there is 1 large outlier in the treatment group. We can perform an analysis with and without that data poinst to see if it impacts our results.*\n",
        "\n",
        "*We will later see that the outlier does not impact our results\n",
        "\n"
      ]
    },
    {
      "cell_type": "code",
      "metadata": {
        "colab": {
          "base_uri": "https://localhost:8080/",
          "height": 374
        },
        "id": "9c-w9sYPmMNa",
        "outputId": "39f7ef7c-2292-4a9f-9582-7b6573db8bab"
      },
      "source": [
        "df.boxplot(by ='treatment', column =['campaign_budget'], grid = False) \n"
      ],
      "execution_count": 22,
      "outputs": [
        {
          "output_type": "stream",
          "text": [
            "/usr/local/lib/python3.6/dist-packages/numpy/core/_asarray.py:83: VisibleDeprecationWarning: Creating an ndarray from ragged nested sequences (which is a list-or-tuple of lists-or-tuples-or ndarrays with different lengths or shapes) is deprecated. If you meant to do this, you must specify 'dtype=object' when creating the ndarray\n",
            "  return array(a, dtype, copy=False, order=order)\n"
          ],
          "name": "stderr"
        },
        {
          "output_type": "execute_result",
          "data": {
            "text/plain": [
              "<matplotlib.axes._subplots.AxesSubplot at 0x7fe7c6f1e5f8>"
            ]
          },
          "metadata": {
            "tags": []
          },
          "execution_count": 22
        },
        {
          "output_type": "display_data",
          "data": {
            "image/png": "[encoded data removed]",
            "text/plain": [
              "<Figure size 432x288 with 1 Axes>"
            ]
          },
          "metadata": {
            "tags": [],
            "needs_background": "light"
          }
        }
      ]
    },
    {
      "cell_type": "code",
      "metadata": {
        "id": "0eWguLdxmQxe"
      },
      "source": [
        "# df_mod will be the dataframe that excludes the high budget outlier\n",
        "\n",
        "df_treatment.sort_values(by='campaign_budget', ascending=False)\n",
        "df.sort_values(by='campaign_budget', ascending=False)\n",
        "df_mod = df.drop([12658])\n",
        "\n",
        "df_mod_control = df_mod[df_mod['treatment']== False]\n",
        "df_mod_test = df_mod[df_mod['treatment']== True]"
      ],
      "execution_count": 23,
      "outputs": []
    },
    {
      "cell_type": "code",
      "metadata": {
        "colab": {
          "base_uri": "https://localhost:8080/",
          "height": 375
        },
        "id": "_9tAHC8MnJaK",
        "outputId": "9682fba0-e7fe-4a84-aad9-dbc35400be74"
      },
      "source": [
        "# without outlier\n",
        "df_mod.sort_values(by='campaign_budget', ascending=False)\n",
        "df_mod.boxplot(by =['treatment','company_size'], column =['campaign_budget'], grid = False) "
      ],
      "execution_count": 24,
      "outputs": [
        {
          "output_type": "stream",
          "text": [
            "/usr/local/lib/python3.6/dist-packages/numpy/core/_asarray.py:83: VisibleDeprecationWarning: Creating an ndarray from ragged nested sequences (which is a list-or-tuple of lists-or-tuples-or ndarrays with different lengths or shapes) is deprecated. If you meant to do this, you must specify 'dtype=object' when creating the ndarray\n",
            "  return array(a, dtype, copy=False, order=order)\n"
          ],
          "name": "stderr"
        },
        {
          "output_type": "execute_result",
          "data": {
            "text/plain": [
              "<matplotlib.axes._subplots.AxesSubplot at 0x7fe7c6ed75c0>"
            ]
          },
          "metadata": {
            "tags": []
          },
          "execution_count": 24
        },
        {
          "output_type": "display_data",
          "data": {
            "image/png": "[encoded data removed]",
            "text/plain": [
              "<Figure size 432x288 with 1 Axes>"
            ]
          },
          "metadata": {
            "tags": [],
            "needs_background": "light"
          }
        }
      ]
    },
    {
      "cell_type": "code",
      "metadata": {
        "colab": {
          "base_uri": "https://localhost:8080/",
          "height": 375
        },
        "id": "iye53SUenrjQ",
        "outputId": "5e047d77-46c2-41a7-8ffb-40229948d156"
      },
      "source": [
        "# with outlier\n",
        "df.boxplot(by =['treatment','company_size'], column =['campaign_budget'], grid = False) "
      ],
      "execution_count": 25,
      "outputs": [
        {
          "output_type": "stream",
          "text": [
            "/usr/local/lib/python3.6/dist-packages/numpy/core/_asarray.py:83: VisibleDeprecationWarning: Creating an ndarray from ragged nested sequences (which is a list-or-tuple of lists-or-tuples-or ndarrays with different lengths or shapes) is deprecated. If you meant to do this, you must specify 'dtype=object' when creating the ndarray\n",
            "  return array(a, dtype, copy=False, order=order)\n"
          ],
          "name": "stderr"
        },
        {
          "output_type": "execute_result",
          "data": {
            "text/plain": [
              "<matplotlib.axes._subplots.AxesSubplot at 0x7fe7c75e7a90>"
            ]
          },
          "metadata": {
            "tags": []
          },
          "execution_count": 25
        },
        {
          "output_type": "display_data",
          "data": {
            "image/png": "[encoded data removed]",
            "text/plain": [
              "<Figure size 432x288 with 1 Axes>"
            ]
          },
          "metadata": {
            "tags": [],
            "needs_background": "light"
          }
        }
      ]
    },
    {
      "cell_type": "code",
      "metadata": {
        "colab": {
          "base_uri": "https://localhost:8080/",
          "height": 0
        },
        "id": "cMtClkKFn95h",
        "outputId": "30903e11-c206-4323-84df-1131904fd48e"
      },
      "source": [
        "## We get the same results with and without outlier included in the data\n",
        "\n",
        "t1, p1 = ttest_ind(df_mod_control['campaign_budget'], df_mod_test['campaign_budget'])\n",
        "p1 = p1/2\n",
        "print('company size: all')\n",
        "print(\"t = \" + str(t1))\n",
        "print(\"p = \" + str(p1))\n",
        "\n",
        "if p1 < alpha and t1 > 0:\n",
        "  print('Reject null')\n",
        "else:\n",
        "  print('Fail to reject null')\n",
        "print(\"\")\n",
        "\n",
        "\n",
        "df_control_dict = {}\n",
        "df_test_dict = {}\n",
        "\n",
        "for size, sub_df in df_mod_control.groupby('company_size'):\n",
        "  df_control_dict[size] = sub_df\n",
        "\n",
        "for size, sub_df in df_mod_test.groupby('company_size'):\n",
        "  df_test_dict[size] = sub_df\n",
        "\n",
        "for size in ['small', 'medium', 'large']:\n",
        "  print('company size: ' + str(size))\n",
        "  t2, p2 = ttest_ind(df_control_dict[size]['campaign_budget'], df_test_dict[size]['campaign_budget'])\n",
        "  p2 = p2/2\n",
        "  print(\"t = \" + str(t2))\n",
        "  print(\"p = \" + str(p2))\n",
        "  if p2 < alpha and t2 > 0:\n",
        "    print('Reject null')\n",
        "  else:\n",
        "    print('Fail to reject null')\n",
        "  print(\"\")"
      ],
      "execution_count": 26,
      "outputs": [
        {
          "output_type": "stream",
          "text": [
            "company size: all\n",
            "t = -1.0589778930738336\n",
            "p = 0.1448131904585357\n",
            "Fail to reject null\n",
            "\n",
            "company size: small\n",
            "t = 2.553323378723892\n",
            "p = 0.005343284160711176\n",
            "Reject null\n",
            "\n",
            "company size: medium\n",
            "t = 1.145686261065636\n",
            "p = 0.12605867702155\n",
            "Fail to reject null\n",
            "\n",
            "company size: large\n",
            "t = -3.2804208978169362\n",
            "p = 0.0005217139832641337\n",
            "Fail to reject null\n",
            "\n"
          ],
          "name": "stdout"
        }
      ]
    }
  ]
}