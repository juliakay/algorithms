{
 "cells": [
  {
   "cell_type": "code",
   "execution_count": 2,
   "metadata": {
    "code_folding": [],
    "hidden_ranges": [],
    "originalKey": "c7651d12-1f98-4f01-baad-ec245203f879"
   },
   "outputs": [],
   "source": [
    "import pandas as pd\n",
    "import numpy as np\n",
    "import pandas.core.algorithms as algos\n",
    "from pandas import Series\n",
    "import scipy.stats.stats as stats\n",
    "import re\n",
    "import traceback\n",
    "import string\n",
    "from datetime import datetime\n",
    "\n"
   ]
  },
  {
   "cell_type": "code",
   "execution_count": 3,
   "metadata": {
    "code_folding": [],
    "hidden_ranges": [],
    "originalKey": "68c72ea2-e519-434a-8313-fa68c776f4ab"
   },
   "outputs": [
    {
     "name": "stderr",
     "output_type": "stream",
    },
    {
     "name": "stdout",
     "output_type": "stream",
     "text": [
      "[===========================================================================] | rows:   2.7K | (1.4 sec)\n",
      "\n"
     ]
    },
    {
     "data": {
      "application/javascript": [
       "\n",
       "    (function () {\n",
       "      let md = IPython.notebook.metadata;\n",
       "      let obj = md['disseminate_hive_queries'] || {};\n",
       "      obj[\"select * from daiquery_1216808865354430\"] = \"payments\";\n",
       "      md['disseminate_hive_queries'] = obj;\n",
       "    })();\n",
       "    "
      ],
      "text/plain": [
       "<IPython.core.display.Javascript object>"
      ]
     },
     "metadata": {
      "bento_obj_id": "139963962827216"
     },
     "output_type": "display_data"
    },
    {
     "name": "stderr",
     "output_type": "stream",
     "text": [
      "I1028 184546.202 presto.py:134] 2688 row(s) returned in 2741.1497 ms\n"
     ]
    }
   ],
   "source": [
    "imagine df being loaded here",
    "df = *******"
   ]
  },
  {
   "cell_type": "code",
   "execution_count": 4,
   "metadata": {
    "code_folding": [],
    "hidden_ranges": [],
    "originalKey": "c56769cd-9759-4abc-bc48-548d3d9d7b8e"
   },
   "outputs": [],
   "source": [
    "df_nf = df.loc[df['tag'] == 'riskclass_NotFraud']\n",
    "# -- 2390 rows\n",
    "df_comps = df.loc[df['tag'] == 'riskclass_CompromisedAccount']\n",
    "# -- 105 rows\n",
    "df_sfi_fake = df.loc[df['tag'] == 'riskclass_SFIFakeAccount']\n",
    "# -- 123 rows\n",
    "df_sfi_real = df.loc[df['tag'] == 'riskclass_SFIRealAccount']\n",
    "# -- 70 rows\n",
    "df_sfi = df.loc[(df['tag'] == 'riskclass_SFIRealAccount') | (df['tag'] == 'riskclass_SFIFakeAccount')]\n",
    "#  -- 193 rows\n",
    "df_train_sfi_fake = pd.concat([df_nf[:500],df_sfi_fake])\n",
    "df_train_sfi_fake = df_train_sfi_fake.sample(frac=1).reset_index(drop=True)\n",
    "df_train_sfi_fake['target'] = [1 if x == 'riskclass_SFIFakeAccount' else 0 for x in df_train_sfi_fake['tag']]"
   ]
  },
  {
   "cell_type": "code",
   "execution_count": 5,
   "metadata": {
    "code_folding": [],
    "hidden_ranges": [],
    "originalKey": "ddbc8be4-0094-460b-b5a7-81b61fa9e275"
   },
   "outputs": [],
   "source": [
    "df_train_comp = pd.concat([df_nf[:500],df_comps])\n",
    "df_train_comp = df_train_comp.sample(frac=1).reset_index(drop=True)\n",
    "df_train_comp['target'] = [1 if x == 'riskclass_CompromisedAccount' else 0 for x in df_train_comp['tag']]\n",
    "df_train_comp.fillna(0, inplace=True)"
   ]
  },
  {
   "cell_type": "code",
   "execution_count": 6,
   "metadata": {
    "code_folding": [],
    "hidden_ranges": [],
    "originalKey": "29172196-997d-47ed-8f5e-2c1e1d298f06"
   },
   "outputs": [],
   "source": [
    "# df_train['accountcountfailedpaymentslast3days'].fillna(0, inplace=True)\n",
    "# df_train['countcardsadded_1h'].fillna(0, inplace=True)\n",
    "# df_train['countcardsadded_1d'].fillna(0, inplace=True)\n",
    "# df_train['countcardsadded_14d'].fillna(0, inplace=True)\n",
    "# df_train['countcardsadded_30d'].fillna(0, inplace=True)\n",
    "# df_train['countcardsauthorizationfail_all_1h'].fillna(0, inplace=True)\n",
    "# df_train['countcardsauthorizationfail_all_1d'].fillna(0, inplace=True)\n",
    "# df_train['countcardsauthorizationfail_all_14d'].fillna(0, inplace=True)\n",
    "# df_train['countcardsauthorizationfail_all_30d'].fillna(0, inplace=True)\n",
    "# df_train['countcardsremoved_1h'].fillna(0, inplace=True)\n",
    "# df_train['countcardsremoved_1d'].fillna(0, inplace=True)\n",
    "# df_train['countcardsremoved_14d'].fillna(0, inplace=True)\n",
    "# df_train['user_dayssincelastunvettedlogin'].fillna(0, inplace=True)\n",
    "# df_train['numusersfromsourcelastdatrs'].fillna(0, inplace=True)\n",
    "df_train_sfi_fake.fillna(0, inplace=True)"
   ]
  },
  {
   "cell_type": "code",
   "execution_count": 15,
   "metadata": {
    "code_folding": [],
    "hidden_ranges": [],
    "originalKey": "09167ce1-0660-4bd3-a65b-0d7ad297f165"
   },
   "outputs": [],
   "source": [
    "# del df_train_sfi_fake['sourceid']\n",
    "# del df_train_sfi_fake['event_fbid']\n",
    "# del df_train_sfi_fake['features']\n",
    "# del df_train_sfi_fake['ds']\n",
    "# del df_train_sfi_fake['context']\n",
    "# del df_train_sfi_fake['tag']\n",
    "# del df_train_sfi_fake['payeepageaudiencetopvpvcountry']\n",
    "\n",
    "# del df_train_comp['sourceid']\n",
    "# del df_train_comp['event_fbid']\n",
    "# del df_train_comp['features']\n",
    "# del df_train_comp['ds']\n",
    "# del df_train_comp['context']\n",
    "# del df_train_comp['tag']\n",
    "# del df_train_comp['payeepageaudiencetopvpvcountry']"
   ]
  },
  {
   "cell_type": "code",
   "execution_count": 11,
   "metadata": {
    "code_folding": [],
    "hidden_ranges": [],
    "originalKey": "73807e1d-de79-4721-8da4-bfbaefdbfb67"
   },
   "outputs": [],
   "source": [
    "# df_train_sfi_fake.head()\n",
    "# df_train_comp.head(100)"
   ]
  },
  {
   "cell_type": "code",
   "execution_count": 16,
   "metadata": {
    "code_folding": [],
    "hidden_ranges": [],
    "originalKey": "b2f63291-9e88-4d14-b78f-bf82b267e545"
   },
   "outputs": [],
   "source": [
    "'''\n",
    "***********************************************************\n",
    "\n",
    "CALCULATE INFORMATION VALUE\n",
    "\n",
    "***********************************************************\n",
    "'''\n",
    "\n",
    "# define a binning function\n",
    "def mono_bin(Y, X, n = max_bin):\n",
    "    \n",
    "    df1 = pd.DataFrame({\"X\": X, \"Y\": Y})\n",
    "    justmiss = df1[['X','Y']][df1.X.isnull()]\n",
    "    notmiss = df1[['X','Y']][df1.X.notnull()]\n",
    "    r = 0\n",
    "    while np.abs(r) < 1:\n",
    "        try:\n",
    "            d1 = pd.DataFrame({\"X\": notmiss.X, \"Y\": notmiss.Y, \"Bucket\": pd.qcut(notmiss.X, n)})\n",
    "            d2 = d1.groupby('Bucket', as_index=True)\n",
    "            r, p = stats.spearmanr(d2.mean().X, d2.mean().Y)\n",
    "            n = n - 1 \n",
    "        except Exception as e:\n",
    "            n = n - 1\n",
    "\n",
    "    if len(d2) == 1:\n",
    "        n = force_bin         \n",
    "        bins = algos.quantile(notmiss.X, np.linspace(0, 1, n))\n",
    "        if len(np.unique(bins)) == 2:\n",
    "            bins = np.insert(bins, 0, 1)\n",
    "            bins[1] = bins[1]-(bins[1]/2)\n",
    "        d1 = pd.DataFrame({\"X\": notmiss.X, \"Y\": notmiss.Y, \"Bucket\": pd.cut(notmiss.X, np.unique(bins),include_lowest=True)}) \n",
    "        d2 = d1.groupby('Bucket', as_index=True)\n",
    "    \n",
    "    d3 = pd.DataFrame({},index=[])\n",
    "    d3[\"MIN_VALUE\"] = d2.min().X\n",
    "    d3[\"MAX_VALUE\"] = d2.max().X\n",
    "    d3[\"COUNT\"] = d2.count().Y\n",
    "    d3[\"EVENT\"] = d2.sum().Y\n",
    "    d3[\"NONEVENT\"] = d2.count().Y - d2.sum().Y\n",
    "    d3=d3.reset_index(drop=True)\n",
    "    \n",
    "    if len(justmiss.index) > 0:\n",
    "        d4 = pd.DataFrame({'MIN_VALUE':np.nan},index=[0])\n",
    "        d4[\"MAX_VALUE\"] = np.nan\n",
    "        d4[\"COUNT\"] = justmiss.count().Y\n",
    "        d4[\"EVENT\"] = justmiss.sum().Y\n",
    "        d4[\"NONEVENT\"] = justmiss.count().Y - justmiss.sum().Y\n",
    "        d3 = d3.append(d4,ignore_index=True)\n",
    "    \n",
    "    d3[\"EVENT_RATE\"] = d3.EVENT/d3.COUNT\n",
    "    d3[\"NON_EVENT_RATE\"] = d3.NONEVENT/d3.COUNT\n",
    "    d3[\"DIST_EVENT\"] = d3.EVENT/d3.sum().EVENT\n",
    "    d3[\"DIST_NON_EVENT\"] = d3.NONEVENT/d3.sum().NONEVENT\n",
    "    d3[\"WOE\"] = np.log(d3.DIST_EVENT/d3.DIST_NON_EVENT)\n",
    "    d3[\"IV\"] = (d3.DIST_EVENT-d3.DIST_NON_EVENT)*np.log(d3.DIST_EVENT/d3.DIST_NON_EVENT)\n",
    "    d3[\"VAR_NAME\"] = \"VAR\"\n",
    "    d3 = d3[['VAR_NAME','MIN_VALUE', 'MAX_VALUE', 'COUNT', 'EVENT', 'EVENT_RATE', 'NONEVENT', 'NON_EVENT_RATE', 'DIST_EVENT','DIST_NON_EVENT','WOE', 'IV']]       \n",
    "    d3 = d3.replace([np.inf, -np.inf], 0)\n",
    "    d3.IV = d3.IV.sum()\n",
    "    \n",
    "    return(d3)\n",
    "\n",
    "def char_bin(Y, X):\n",
    "        \n",
    "    df1 = pd.DataFrame({\"X\": X, \"Y\": Y})\n",
    "    justmiss = df1[['X','Y']][df1.X.isnull()]\n",
    "    notmiss = df1[['X','Y']][df1.X.notnull()]    \n",
    "    df2 = notmiss.groupby('X',as_index=True)\n",
    "    \n",
    "    d3 = pd.DataFrame({},index=[])\n",
    "    d3[\"COUNT\"] = df2.count().Y\n",
    "    d3[\"MIN_VALUE\"] = df2.sum().Y.index\n",
    "    d3[\"MAX_VALUE\"] = d3[\"MIN_VALUE\"]\n",
    "    d3[\"EVENT\"] = df2.sum().Y\n",
    "    d3[\"NONEVENT\"] = df2.count().Y - df2.sum().Y\n",
    "    \n",
    "    if len(justmiss.index) > 0:\n",
    "        d4 = pd.DataFrame({'MIN_VALUE':np.nan},index=[0])\n",
    "        d4[\"MAX_VALUE\"] = np.nan\n",
    "        d4[\"COUNT\"] = justmiss.count().Y\n",
    "        d4[\"EVENT\"] = justmiss.sum().Y\n",
    "        d4[\"NONEVENT\"] = justmiss.count().Y - justmiss.sum().Y\n",
    "        d3 = d3.append(d4,ignore_index=True)\n",
    "    \n",
    "    d3[\"EVENT_RATE\"] = d3.EVENT/d3.COUNT\n",
    "    d3[\"NON_EVENT_RATE\"] = d3.NONEVENT/d3.COUNT\n",
    "    d3[\"DIST_EVENT\"] = d3.EVENT/d3.sum().EVENT\n",
    "    d3[\"DIST_NON_EVENT\"] = d3.NONEVENT/d3.sum().NONEVENT\n",
    "    d3[\"WOE\"] = np.log(d3.DIST_EVENT/d3.DIST_NON_EVENT)\n",
    "    d3[\"IV\"] = (d3.DIST_EVENT-d3.DIST_NON_EVENT)*np.log(d3.DIST_EVENT/d3.DIST_NON_EVENT)\n",
    "    d3[\"VAR_NAME\"] = \"VAR\"\n",
    "    d3 = d3[['VAR_NAME','MIN_VALUE', 'MAX_VALUE', 'COUNT', 'EVENT', 'EVENT_RATE', 'NONEVENT', 'NON_EVENT_RATE', 'DIST_EVENT','DIST_NON_EVENT','WOE', 'IV']]      \n",
    "    d3 = d3.replace([np.inf, -np.inf], 0)\n",
    "    d3.IV = d3.IV.sum()\n",
    "    d3 = d3.reset_index(drop=True)\n",
    "    \n",
    "    return(d3)\n",
    "\n",
    "def data_vars(df1, target):\n",
    "    \n",
    "    stack = traceback.extract_stack()\n",
    "    filename, lineno, function_name, code = stack[-2]\n",
    "    vars_name = re.compile(r'\\((.*?)\\).*$').search(code).groups()[0]\n",
    "    final = (re.findall(r\"[\\w']+\", vars_name))[-1]\n",
    "    \n",
    "    x = df1.dtypes.index\n",
    "    count = -1\n",
    "    \n",
    "    for i in x:\n",
    "        if i.upper() not in (final.upper()):\n",
    "            if np.issubdtype(df1[i], np.number) and len(Series.unique(df1[i])) > 2:\n",
    "                conv = mono_bin(target, df1[i])\n",
    "                conv[\"VAR_NAME\"] = i\n",
    "                count = count + 1\n",
    "            else:\n",
    "                conv = char_bin(target, df1[i])\n",
    "                conv[\"VAR_NAME\"] = i            \n",
    "                count = count + 1\n",
    "                \n",
    "            if count == 0:\n",
    "                iv_df = conv\n",
    "            else:\n",
    "                iv_df = iv_df.append(conv,ignore_index=True)\n",
    "    \n",
    "    iv = pd.DataFrame({'IV':iv_df.groupby('VAR_NAME').IV.max()})\n",
    "    iv = iv.reset_index()\n",
    "    return(iv_df,iv)"
   ]
  },
  {
   "cell_type": "code",
   "execution_count": 17,
   "metadata": {
    "code_folding": [],
    "hidden_ranges": [],
    "originalKey": "0294b5b7-ab56-4400-9a81-11b6290230c8"
   },
   "outputs": [],
   "source": [
    "max_bin = 20\n",
    "force_bin = 3\n",
    "\n",
    "final_iv_sfiF, IV_sfiF = data_vars(df_train_sfi_fake,df_train_sfi_fake.target)\n",
    "IV_sfiF.sort_values(by='IV', ascending=False, inplace=True)\n",
    "# print(IV_sfiF)"
   ]
  },
  {
   "cell_type": "code",
   "execution_count": 20,
   "metadata": {
    "code_folding": [],
    "hidden_ranges": [],
    "originalKey": "3877dd61-4142-4068-8b94-470afab230ea"
   },
   "outputs": [],
   "source": [
    "final_iv_comp, IV_comp = data_vars(df_train_comp,df_train_comp.target)\n",
    "IV_comp.sort_values(by='IV', ascending=False, inplace=True)\n",
    "# print(IV_comp)"
   ]
  },
  {
   "cell_type": "code",
   "execution_count": null,
   "metadata": {
    "originalKey": "811eca47-c2a9-4c85-854b-28e63d8efd01"
   },
   "outputs": [],
   "source": []
  },
  {
   "cell_type": "code",
   "execution_count": null,
   "metadata": {
    "originalKey": "4584a672-ceb2-49da-916f-3936a4c9179e"
   },
   "outputs": [],
   "source": []
  },
  {
   "cell_type": "code",
   "execution_count": null,
   "metadata": {},
   "outputs": [],
   "source": []
  },
  {
   "cell_type": "code",
   "execution_count": null,
   "metadata": {},
   "outputs": [],
   "source": []
  },
  {
   "cell_type": "code",
   "execution_count": null,
   "metadata": {},
   "outputs": [],
   "source": []
  },
  {
   "cell_type": "code",
   "execution_count": null,
   "metadata": {},
   "outputs": [],
   "source": []
  }
 ],
 "metadata": {
  "bento_stylesheets": {
   "bento/extensions/flow/main.css": true,
   "bento/extensions/kernel_selector/main.css": true,
   "bento/extensions/kernel_ui/main.css": true,
   "bento/extensions/new_kernel/main.css": true,
   "bento/extensions/system_usage/main.css": true,
   "bento/extensions/theme/main.css": true
  },
  "disseminate_hive_queries": {
   "select * from daiquery_1216808865354430": "payments"
  },
  "disseminate_notebook_id": {
   "notebook_id": "789024601663454"
  },
  "disseminate_notebook_info": {
   "data_retention_policy": "default",
   "description": "A new Jupyter notebook",
   "hide_code": false,
   "no_uii": false,
   "notebook_number": "386483",
   "others_can_edit": false,
   "revision_id": 2843495662606580,
   "tags": "python",
   "title": "Stars - WOE/IV - Feature Importance"
  },
  "kernelspec": {
   "display_name": "Python 3",
   "language": "python",
   "name": "python3"
  },
  "language_info": {
   "codemirror_mode": {
    "name": "ipython",
    "version": 3
   },
   "file_extension": ".py",
   "mimetype": "text/x-python",
   "name": "python",
   "nbconvert_exporter": "python",
   "pygments_lexer": "ipython3",
   "version": "3.7.5+"
  }
 },
 "nbformat": 4,
 "nbformat_minor": 2
}
